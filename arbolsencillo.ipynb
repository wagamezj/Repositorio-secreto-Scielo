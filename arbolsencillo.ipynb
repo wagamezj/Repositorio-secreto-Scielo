{
 "cells": [
  {
   "cell_type": "code",
   "execution_count": 1,
   "metadata": {},
   "outputs": [],
   "source": [
    "import pandas as pd\n",
    "import numpy  as np\n",
    "import matplotlib.pyplot as plt\n"
   ]
  },
  {
   "cell_type": "code",
   "execution_count": 2,
   "metadata": {
    "scrolled": true
   },
   "outputs": [
    {
     "name": "stderr",
     "output_type": "stream",
     "text": [
      "C:\\Users\\wilme\\Anaconda3\\lib\\site-packages\\IPython\\core\\interactiveshell.py:2785: DtypeWarning: Columns (1) have mixed types. Specify dtype option on import or set low_memory=False.\n",
      "  interactivity=interactivity, compiler=compiler, result=result)\n"
     ]
    }
   ],
   "source": [
    "\n",
    "df = pd.read_csv(r\"C:\\Users\\wilme\\OneDrive\\Documentos\\GitHub\\Repositorio-secreto-Scielo\\Data\\scopus_con_indicadores.csv\")\n"
   ]
  },
  {
   "cell_type": "code",
   "execution_count": null,
   "metadata": {},
   "outputs": [],
   "source": [
    "#df.sort_values(by=\"Cited_by\",ascending=False)   cuando necesite ordenar"
   ]
  },
  {
   "cell_type": "code",
   "execution_count": 3,
   "metadata": {},
   "outputs": [],
   "source": [
    "df2 = df\n",
    "    \n",
    "   "
   ]
  },
  {
   "cell_type": "code",
   "execution_count": 35,
   "metadata": {},
   "outputs": [
    {
     "data": {
      "text/html": [
       "<div>\n",
       "<style scoped>\n",
       "    .dataframe tbody tr th:only-of-type {\n",
       "        vertical-align: middle;\n",
       "    }\n",
       "\n",
       "    .dataframe tbody tr th {\n",
       "        vertical-align: top;\n",
       "    }\n",
       "\n",
       "    .dataframe thead th {\n",
       "        text-align: right;\n",
       "    }\n",
       "</style>\n",
       "<table border=\"1\" class=\"dataframe\">\n",
       "  <thead>\n",
       "    <tr style=\"text-align: right;\">\n",
       "      <th></th>\n",
       "      <th>Unnamed: 0</th>\n",
       "      <th>Author(s)_ID_Rev</th>\n",
       "      <th>Title</th>\n",
       "      <th>Year</th>\n",
       "      <th>Source_title</th>\n",
       "      <th>Document_Type</th>\n",
       "      <th>Abstract</th>\n",
       "      <th>Authors_Rev</th>\n",
       "      <th>Total_Citation</th>\n",
       "      <th>Total_Title</th>\n",
       "      <th>...</th>\n",
       "      <th>Total_Journal</th>\n",
       "      <th>Delta_publications</th>\n",
       "      <th>autor_career</th>\n",
       "      <th>citation_journal</th>\n",
       "      <th>Delta_coautores</th>\n",
       "      <th>Cited_by</th>\n",
       "      <th>Years</th>\n",
       "      <th>cant_coautores</th>\n",
       "      <th>journal_mean_citation</th>\n",
       "      <th>nivel_de_citacion</th>\n",
       "    </tr>\n",
       "  </thead>\n",
       "  <tbody>\n",
       "    <tr>\n",
       "      <th>0</th>\n",
       "      <td>0</td>\n",
       "      <td>6602373241</td>\n",
       "      <td>On Gymnodactylus amarali Barbour, 1925, with t...</td>\n",
       "      <td>2005</td>\n",
       "      <td>Anais da Academia Brasileira de Ciencias</td>\n",
       "      <td>Article</td>\n",
       "      <td>Gymnodactylus amarali Barbour, 1925, was previ...</td>\n",
       "      <td>Vanzolini P.E.</td>\n",
       "      <td>62.0</td>\n",
       "      <td>5</td>\n",
       "      <td>...</td>\n",
       "      <td>1</td>\n",
       "      <td>0.0</td>\n",
       "      <td>3</td>\n",
       "      <td>9.146637</td>\n",
       "      <td>0.0</td>\n",
       "      <td>7.0</td>\n",
       "      <td>14</td>\n",
       "      <td>1</td>\n",
       "      <td>9.146637</td>\n",
       "      <td>5</td>\n",
       "    </tr>\n",
       "    <tr>\n",
       "      <th>1</th>\n",
       "      <td>1</td>\n",
       "      <td>7004422261</td>\n",
       "      <td>Constraints to the implementation of effective...</td>\n",
       "      <td>2005</td>\n",
       "      <td>Anais da Academia Brasileira de Ciencias</td>\n",
       "      <td>Article</td>\n",
       "      <td>This paper addresses the limitations the scarc...</td>\n",
       "      <td>De Wagener A.L.R.</td>\n",
       "      <td>6.0</td>\n",
       "      <td>1</td>\n",
       "      <td>...</td>\n",
       "      <td>1</td>\n",
       "      <td>0.0</td>\n",
       "      <td>0</td>\n",
       "      <td>9.146637</td>\n",
       "      <td>0.0</td>\n",
       "      <td>6.0</td>\n",
       "      <td>14</td>\n",
       "      <td>1</td>\n",
       "      <td>9.146637</td>\n",
       "      <td>5</td>\n",
       "    </tr>\n",
       "    <tr>\n",
       "      <th>2</th>\n",
       "      <td>2</td>\n",
       "      <td>11739855600</td>\n",
       "      <td>Geochemical modeling of gold precipitation con...</td>\n",
       "      <td>2005</td>\n",
       "      <td>Anais da Academia Brasileira de Ciencias</td>\n",
       "      <td>Article</td>\n",
       "      <td>A geochemical modeling of gold deposition was ...</td>\n",
       "      <td>Mexias A.S.</td>\n",
       "      <td>11.0</td>\n",
       "      <td>2</td>\n",
       "      <td>...</td>\n",
       "      <td>1</td>\n",
       "      <td>0.0</td>\n",
       "      <td>2</td>\n",
       "      <td>9.146637</td>\n",
       "      <td>0.0</td>\n",
       "      <td>7.0</td>\n",
       "      <td>14</td>\n",
       "      <td>7</td>\n",
       "      <td>9.146637</td>\n",
       "      <td>5</td>\n",
       "    </tr>\n",
       "    <tr>\n",
       "      <th>3</th>\n",
       "      <td>3</td>\n",
       "      <td>7202349172</td>\n",
       "      <td>Geochemical modeling of gold precipitation con...</td>\n",
       "      <td>2005</td>\n",
       "      <td>Anais da Academia Brasileira de Ciencias</td>\n",
       "      <td>Article</td>\n",
       "      <td>A geochemical modeling of gold deposition was ...</td>\n",
       "      <td>Berger G.</td>\n",
       "      <td>7.0</td>\n",
       "      <td>1</td>\n",
       "      <td>...</td>\n",
       "      <td>1</td>\n",
       "      <td>0.0</td>\n",
       "      <td>0</td>\n",
       "      <td>9.146637</td>\n",
       "      <td>0.0</td>\n",
       "      <td>7.0</td>\n",
       "      <td>14</td>\n",
       "      <td>7</td>\n",
       "      <td>9.146637</td>\n",
       "      <td>5</td>\n",
       "    </tr>\n",
       "    <tr>\n",
       "      <th>4</th>\n",
       "      <td>4</td>\n",
       "      <td>11738879800</td>\n",
       "      <td>Geochemical modeling of gold precipitation con...</td>\n",
       "      <td>2005</td>\n",
       "      <td>Anais da Academia Brasileira de Ciencias</td>\n",
       "      <td>Article</td>\n",
       "      <td>A geochemical modeling of gold deposition was ...</td>\n",
       "      <td>Gomes M.E.B.</td>\n",
       "      <td>11.0</td>\n",
       "      <td>2</td>\n",
       "      <td>...</td>\n",
       "      <td>1</td>\n",
       "      <td>0.0</td>\n",
       "      <td>2</td>\n",
       "      <td>9.146637</td>\n",
       "      <td>0.0</td>\n",
       "      <td>7.0</td>\n",
       "      <td>14</td>\n",
       "      <td>7</td>\n",
       "      <td>9.146637</td>\n",
       "      <td>5</td>\n",
       "    </tr>\n",
       "  </tbody>\n",
       "</table>\n",
       "<p>5 rows × 21 columns</p>\n",
       "</div>"
      ],
      "text/plain": [
       "   Unnamed: 0 Author(s)_ID_Rev  \\\n",
       "0           0       6602373241   \n",
       "1           1       7004422261   \n",
       "2           2      11739855600   \n",
       "3           3       7202349172   \n",
       "4           4      11738879800   \n",
       "\n",
       "                                               Title  Year  \\\n",
       "0  On Gymnodactylus amarali Barbour, 1925, with t...  2005   \n",
       "1  Constraints to the implementation of effective...  2005   \n",
       "2  Geochemical modeling of gold precipitation con...  2005   \n",
       "3  Geochemical modeling of gold precipitation con...  2005   \n",
       "4  Geochemical modeling of gold precipitation con...  2005   \n",
       "\n",
       "                               Source_title Document_Type  \\\n",
       "0  Anais da Academia Brasileira de Ciencias       Article   \n",
       "1  Anais da Academia Brasileira de Ciencias       Article   \n",
       "2  Anais da Academia Brasileira de Ciencias       Article   \n",
       "3  Anais da Academia Brasileira de Ciencias       Article   \n",
       "4  Anais da Academia Brasileira de Ciencias       Article   \n",
       "\n",
       "                                            Abstract        Authors_Rev  \\\n",
       "0  Gymnodactylus amarali Barbour, 1925, was previ...     Vanzolini P.E.   \n",
       "1  This paper addresses the limitations the scarc...  De Wagener A.L.R.   \n",
       "2  A geochemical modeling of gold deposition was ...        Mexias A.S.   \n",
       "3  A geochemical modeling of gold deposition was ...          Berger G.   \n",
       "4  A geochemical modeling of gold deposition was ...       Gomes M.E.B.   \n",
       "\n",
       "   Total_Citation  Total_Title        ...          Total_Journal  \\\n",
       "0            62.0            5        ...                      1   \n",
       "1             6.0            1        ...                      1   \n",
       "2            11.0            2        ...                      1   \n",
       "3             7.0            1        ...                      1   \n",
       "4            11.0            2        ...                      1   \n",
       "\n",
       "   Delta_publications  autor_career  citation_journal  Delta_coautores  \\\n",
       "0                 0.0             3          9.146637              0.0   \n",
       "1                 0.0             0          9.146637              0.0   \n",
       "2                 0.0             2          9.146637              0.0   \n",
       "3                 0.0             0          9.146637              0.0   \n",
       "4                 0.0             2          9.146637              0.0   \n",
       "\n",
       "   Cited_by  Years  cant_coautores  journal_mean_citation  nivel_de_citacion  \n",
       "0       7.0     14               1               9.146637                  5  \n",
       "1       6.0     14               1               9.146637                  5  \n",
       "2       7.0     14               7               9.146637                  5  \n",
       "3       7.0     14               7               9.146637                  5  \n",
       "4       7.0     14               7               9.146637                  5  \n",
       "\n",
       "[5 rows x 21 columns]"
      ]
     },
     "execution_count": 35,
     "metadata": {},
     "output_type": "execute_result"
    }
   ],
   "source": [
    "# Se establecen las condiciones para la valoracion de los articulos mas populares y menos populares\n",
    "condiciones = [\n",
    "    (df2['Cited_by'] >= 100) ,\n",
    "    (df2['Cited_by'] < 100) & (df2['Cited_by'] >= 50),\n",
    "    (df2['Cited_by'] < 50) & (df2['Cited_by'] >= 20),\n",
    "    (df2['Cited_by'] < 20) & (df2['Cited_by'] >= 10),\n",
    "    (df2['Cited_by'] < 10) & (df2['Cited_by'] >= 5),\n",
    "    (df2['Cited_by'] < 5) & (df2['Cited_by'] > 0),\n",
    "     (df2['Cited_by'] == 0)\n",
    "    \n",
    "]\n",
    "eleccion = ['1', '2', '3','4','5','6','7']\n",
    "df2['nivel_de_citacion'] = np.select(condiciones, eleccion, default='error')\n",
    "df2.head()\n"
   ]
  },
  {
   "cell_type": "code",
   "execution_count": 36,
   "metadata": {},
   "outputs": [
    {
     "data": {
      "text/plain": [
       "6    64444\n",
       "7    56621\n",
       "5    22504\n",
       "4    13268\n",
       "3     6156\n",
       "2      929\n",
       "1      215\n",
       "Name: nivel_de_citacion, dtype: int64"
      ]
     },
     "execution_count": 36,
     "metadata": {},
     "output_type": "execute_result"
    }
   ],
   "source": [
    "# Revisar cuantos articulos tiene el nivel de popularidad\n",
    "\n",
    "df2['nivel_de_citacion'].value_counts()"
   ]
  },
  {
   "cell_type": "code",
   "execution_count": 37,
   "metadata": {},
   "outputs": [
    {
     "data": {
      "text/plain": [
       "Index(['Unnamed: 0', 'Author(s)_ID_Rev', 'Title', 'Year', 'Source_title',\n",
       "       'Document_Type', 'Abstract', 'Authors_Rev', 'Total_Citation',\n",
       "       'Total_Title', 'Max_Citation', 'Total_Journal', 'Delta_publications',\n",
       "       'autor_career', 'citation_journal', 'Delta_coautores', 'Cited_by',\n",
       "       'Years', 'cant_coautores', 'journal_mean_citation',\n",
       "       'nivel_de_citacion'],\n",
       "      dtype='object')"
      ]
     },
     "execution_count": 37,
     "metadata": {},
     "output_type": "execute_result"
    }
   ],
   "source": [
    "df2.columns"
   ]
  },
  {
   "cell_type": "code",
   "execution_count": 38,
   "metadata": {},
   "outputs": [],
   "source": [
    "dataset = df2[['Year', 'Source_title', 'Document_Type', 'Authors_Rev','Authors_Rev', 'Total_Citation',\n",
    "       'Total_Title', 'Max_Citation', 'Total_Journal', 'Delta_publications',\n",
    "       'autor_career', 'citation_journal', 'Delta_coautores',\n",
    "       'Years', 'cant_coautores', 'journal_mean_citation','nivel_de_citacion']]\n",
    "\n"
   ]
  },
  {
   "cell_type": "code",
   "execution_count": 39,
   "metadata": {},
   "outputs": [],
   "source": [
    "# Clasificacion de los parametros\n",
    "X = dataset.iloc[:, [0,15]].values\n",
    "y = dataset.iloc[:, 16].values"
   ]
  },
  {
   "cell_type": "code",
   "execution_count": 40,
   "metadata": {},
   "outputs": [],
   "source": [
    "# Dividir el data set en conjunto de entrenamiento y conjunto de testing\n",
    "from sklearn.model_selection import train_test_split # componente que nos permite hacer la particion\n",
    "X_train, X_test, y_train, y_test = train_test_split(X, y, test_size = 0.25, random_state = 0)"
   ]
  },
  {
   "cell_type": "code",
   "execution_count": 41,
   "metadata": {},
   "outputs": [
    {
     "data": {
      "text/plain": [
       "DecisionTreeClassifier(class_weight=None, criterion='entropy', max_depth=None,\n",
       "            max_features=None, max_leaf_nodes=None,\n",
       "            min_impurity_decrease=0.0, min_impurity_split=None,\n",
       "            min_samples_leaf=1, min_samples_split=2,\n",
       "            min_weight_fraction_leaf=0.0, presort=False, random_state=0,\n",
       "            splitter='best')"
      ]
     },
     "execution_count": 41,
     "metadata": {},
     "output_type": "execute_result"
    }
   ],
   "source": [
    "# Ajustar el clasificador de Árbol de Decisión en el Conjunto de Entrenamiento son varios clasificadores o modelos \n",
    "#entropy es uno\n",
    "from sklearn.tree import DecisionTreeClassifier\n",
    "classifier = DecisionTreeClassifier(criterion = \"entropy\", random_state = 0)\n",
    "classifier.fit(X_train, y_train)\n"
   ]
  },
  {
   "cell_type": "code",
   "execution_count": 42,
   "metadata": {},
   "outputs": [],
   "source": [
    "# Predicción de los resultados con el Conjunto de Testing\n",
    "y_pred  = classifier.predict(X_test)"
   ]
  },
  {
   "cell_type": "code",
   "execution_count": 43,
   "metadata": {},
   "outputs": [],
   "source": [
    "# Elaborar una matriz de confusión\n",
    "from sklearn.metrics import confusion_matrix # Componente del paquete para esta funcionalidad\n",
    "cm = confusion_matrix(y_test, y_pred)"
   ]
  },
  {
   "cell_type": "code",
   "execution_count": 44,
   "metadata": {},
   "outputs": [
    {
     "data": {
      "text/plain": [
       "array([[    1,     0,    11,    18,     3,    23,     4],\n",
       "       [    0,     0,    46,   100,    25,    65,     1],\n",
       "       [    0,     0,   179,   459,   231,   592,    16],\n",
       "       [    0,     0,   166,   769,   501,  1816,    92],\n",
       "       [    0,     0,   131,   571,   798,  3894,   250],\n",
       "       [    0,     0,    82,   573,   633, 11329,  3363],\n",
       "       [    0,     0,    12,   115,   171,  4672,  9323]], dtype=int64)"
      ]
     },
     "execution_count": 44,
     "metadata": {},
     "output_type": "execute_result"
    }
   ],
   "source": [
    "cm"
   ]
  },
  {
   "cell_type": "code",
   "execution_count": 45,
   "metadata": {},
   "outputs": [
    {
     "data": {
      "text/plain": [
       "array(['6', '7', '5', ..., '7', '3', '5'], dtype=object)"
      ]
     },
     "execution_count": 45,
     "metadata": {},
     "output_type": "execute_result"
    }
   ],
   "source": [
    "y_test"
   ]
  },
  {
   "cell_type": "code",
   "execution_count": 46,
   "metadata": {},
   "outputs": [
    {
     "data": {
      "text/plain": [
       "array(['6', '6', '6', ..., '7', '4', '6'], dtype=object)"
      ]
     },
     "execution_count": 46,
     "metadata": {},
     "output_type": "execute_result"
    }
   ],
   "source": [
    "y_pred"
   ]
  },
  {
   "cell_type": "code",
   "execution_count": 48,
   "metadata": {
    "scrolled": true
   },
   "outputs": [
    {
     "data": {
      "text/plain": [
       "0.5458511027171926"
      ]
     },
     "execution_count": 48,
     "metadata": {},
     "output_type": "execute_result"
    }
   ],
   "source": [
    "from sklearn.metrics import accuracy_score # revisar el nivel de precicion\n",
    "accuracy_score(y_test, y_pred)"
   ]
  },
  {
   "cell_type": "code",
   "execution_count": null,
   "metadata": {},
   "outputs": [],
   "source": []
  }
 ],
 "metadata": {
  "kernelspec": {
   "display_name": "Python 3",
   "language": "python",
   "name": "python3"
  },
  "language_info": {
   "codemirror_mode": {
    "name": "ipython",
    "version": 3
   },
   "file_extension": ".py",
   "mimetype": "text/x-python",
   "name": "python",
   "nbconvert_exporter": "python",
   "pygments_lexer": "ipython3",
   "version": "3.6.5"
  }
 },
 "nbformat": 4,
 "nbformat_minor": 2
}
